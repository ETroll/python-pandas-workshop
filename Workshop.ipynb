{
 "cells": [
  {
   "cell_type": "markdown",
   "metadata": {
    "toc-hr-collapsed": false
   },
   "source": [
    "# Pandas (and a bit of numPy) introduction Workshop\n",
    "\n",
    "DISCLAIMER: I am normally a C# developer and my style of coding might not always be following the \"pythonic\" way. I am no fan of snake case and prefer camelCase for functions and variables and PascalCase for Classes. Even if this might shine trough in this document, you can write the code however you like. If you want to learn Python the \"pythonic\" way, then use snake case for variables and functions.\n",
    "\n",
    "This workbook is created for Python 3.6.x and above. Some of the language basics shown here is not available for earlier versions of Python.\n",
    "\n",
    " - Python documentation: [docs.python.org](docs.python.org).\n",
    " - Jupyter documentation: [jupyter-notebook.readthedocs.io](https://jupyter-notebook.readthedocs.io/en/stable/notebook.html).\n",
    " - NumPy documentation: [docs.scipy.org](https://docs.scipy.org/doc/numpy/user/index.html)\n",
    " - Pandas documentation [pandas.pydata.org](https://pandas.pydata.org/pandas-docs/stable/)\n"
   ]
  },
  {
   "cell_type": "markdown",
   "metadata": {
    "toc-hr-collapsed": false
   },
   "source": [
    "## Jupyter Notebooks crash course\n",
    "\n",
    "This is a Jupyter notebook. Opening this notebook is a proof that you have read the initial `README` file for this workshop. Congratulations!\n",
    "\n",
    "A Jupyter Notebook is a interavtive REPL (read–eval–print loop) tool. You can think of it as a \"advanced\" markdown editor with a built-in coding possibility. \n",
    "There are two terms that might be new if you have never used or seen a Jupyter Notebook before.\n",
    "\n",
    " - `Kernel` - A \"process\" that executes the code that are written in a notebook. You can look on it as a runtime. There are kernels for multiple languages. Python, R, Julia, C#, Java are some of them.\n",
    " - `Cell` - A notebook is split up in multiple cells. A cell is a container for ether text or code.\n",
    " \n",
    " <img src=\"img/Notebook-interface.png\" alt=\"Drawing\" style=\"width: 600px;\"/>\n",
    " \n",
    "\n",
    "\n",
    " \n"
   ]
  },
  {
   "cell_type": "markdown",
   "metadata": {},
   "source": [
    "### Cells\n",
    "\n",
    "Cells are the main components in a workbook. There are 3 cell types, but we will only cover two of them. The `Raw` cell type will note be used.\n",
    "\n",
    "The two cell types we will be using is:\n",
    "\n",
    " - `Code cell` - This cell contains the code that will be executed\n",
    " - `Markdown cell` - This cell contains markdown that will be rendered when executed.\n",
    "\n",
    "When you start a notebook there will always be one cell ready. This cell is a `code cell`. \n",
    "All new cells that are created will be a `code cell` by default. \n",
    "You have to change it to a `markdown cell` if you want to write markdown instead.\n",
    "\n",
    "![Notebook menu](img/Notebook-menu.png)\n",
    "\n",
    "To change it to a markdown cell you just have to press `m` when you have the cell selected. (Not when the cursor is inside the cell).\n",
    "To change it back to a code cell you do the same and press `y` instead. \n",
    "You can also do this by using the dropdown at the top of the notebook indicating the cell type. (As marked in orange in the image)\n",
    "\n",
    "To execute a cell you can press `Shift-Enter`. This executes a cell and creates a new code cell after that cell if there is no other cell to advance to.\n",
    "If you press `Ctrl-Enter` instead you execute a cell, but do not advance to the next cell or create a new cell.\n",
    "You can also execute or stop the execution of a cell by using the start and stop buttons highlighted in yellow and green in the image above.\n",
    "\n",
    "The results of a cell execution will be printed beneath the cell if the cell is a code cell. If it is a markdown cell then the resulting html of the markdown will be shown in the cell instead.\n",
    "\n",
    "To quickly edit a markdown cell after it has been rendered, you can just press `Enter`.\n",
    "\n"
   ]
  },
  {
   "cell_type": "markdown",
   "metadata": {},
   "source": [
    "### Exercise 1 - Testing out Jupyter\n",
    "\n",
    "So now that you have recieved a crash course in the use of Jupyter Notebooks. Let us give it a try!\n",
    "\n",
    "First exercercise is to write a python snippet that prints hello world. The expected result is the words \"Hello world\" printed beneath the cell.\n",
    "\n",
    "\n"
   ]
  },
  {
   "cell_type": "code",
   "execution_count": 3,
   "metadata": {},
   "outputs": [],
   "source": [
    "# Exercise 1 - Hello jupyter world!\n",
    "#\n",
    "# Write the code below\n",
    "\n",
    "\n"
   ]
  },
  {
   "cell_type": "markdown",
   "metadata": {},
   "source": [
    "### Scope\n",
    "\n",
    "Great! You hav now run your first cell in a Jupyter Notebook! \n",
    "\n",
    "The code in each code cell belongs to the same scope.\n",
    "So this means that variables, functions or classes declared in one cell can be used in another cell. (So imports as well)\n",
    "Just remember to run the cell firsts. If a cell has not been run, the code it contains are not run and any variables, functions or classes are not declared.\n",
    "\n",
    "So let us test this out as well.\n",
    "\n",
    "**NOTE:** If a variable, function or class has been declared in a cell, and the cell has been executes. Than the variable will exist as long as the workbook are runnuing.\n",
    "Even if you clear out the cell and run the cell again.\n",
    "\n"
   ]
  },
  {
   "cell_type": "markdown",
   "metadata": {},
   "source": [
    "### Exercise 2 - Multiple cells\n",
    "\n",
    "Create string variable containing \"Hello world\" in one cell and print the content of that string in another cell"
   ]
  },
  {
   "cell_type": "code",
   "execution_count": 8,
   "metadata": {},
   "outputs": [],
   "source": [
    "# Exercise 2 - Create your variable here\n",
    "\n",
    "\n"
   ]
  },
  {
   "cell_type": "code",
   "execution_count": 7,
   "metadata": {},
   "outputs": [],
   "source": [
    "# Exercise 2 - Print your variable to the console here\n",
    "\n",
    "\n"
   ]
  },
  {
   "cell_type": "markdown",
   "metadata": {},
   "source": [
    "## NumPy\n",
    "\n",
    "NumPy is a Python package that are mainly used for scientific computing. It has a near C like performance. [[ref](https://www.ibm.com/developerworks/community/blogs/jfp/entry/A_Comparison_Of_C_Julia_Python_Numba_Cython_Scipy_and_BLAS_on_LU_Factorization?lang=en)] It is used to process arrays, multidimensional arrays and to perform mathematical operations on these arrays.\n",
    "\n",
    "NumPy’s array class is called `ndarray`. It is also known by the alias `array`. Note that `numpy.array` is not the same as the Standard Python Library class `array.array`, which we covered in the previous workshop and is not really recomended to use. (It was very limited in what it could do.)\n",
    "\n",
    "So let us see some of what NumPy can do:"
   ]
  },
  {
   "cell_type": "code",
   "execution_count": 30,
   "metadata": {},
   "outputs": [
    {
     "name": "stdout",
     "output_type": "stream",
     "text": [
      "[ 0  1  2  3  4  5  6  7  8  9 10 11 12 13 14]\n"
     ]
    }
   ],
   "source": [
    "import numpy as np\n",
    "\n",
    "# Create a array with range from 0 to 15. (Very much same as range(), just a ndarray instead of an sequence)\n",
    "array: np.ndarray = np.arange(15)\n",
    "print(array)"
   ]
  },
  {
   "cell_type": "code",
   "execution_count": 31,
   "metadata": {},
   "outputs": [
    {
     "name": "stdout",
     "output_type": "stream",
     "text": [
      "[[ 0  1  2  3  4]\n",
      " [ 5  6  7  8  9]\n",
      " [10 11 12 13 14]]\n"
     ]
    }
   ],
   "source": [
    "# Reshape the array into a multidimensional array\n",
    "multidim: np.ndarray = array.reshape(3,5)\n",
    "print(multidim)"
   ]
  },
  {
   "cell_type": "code",
   "execution_count": 32,
   "metadata": {},
   "outputs": [
    {
     "name": "stdout",
     "output_type": "stream",
     "text": [
      "[1 2 3 4]\n"
     ]
    }
   ],
   "source": [
    "# You can also create a array by using the np.array() method\n",
    "array: np.ndarray = np.array([1,2,3,4])\n",
    "print(array)"
   ]
  },
  {
   "cell_type": "code",
   "execution_count": 33,
   "metadata": {},
   "outputs": [
    {
     "name": "stdout",
     "output_type": "stream",
     "text": [
      "[[0. 0. 0. 0.]\n",
      " [0. 0. 0. 0.]\n",
      " [0. 0. 0. 0.]]\n"
     ]
    }
   ],
   "source": [
    "# create empty arrays using np.zeroes()\n",
    "array: np.ndarray = np.zeros((3,4))\n",
    "print(array)"
   ]
  },
  {
   "cell_type": "code",
   "execution_count": 34,
   "metadata": {},
   "outputs": [
    {
     "name": "stdout",
     "output_type": "stream",
     "text": [
      "[20 29 38 47]\n",
      "[  0  30  80 150]\n"
     ]
    }
   ],
   "source": [
    "# Arithmetic operators on arrays apply elementwise. A new array is created and filled with the result.\n",
    "a: np.ndarray = np.array([20,30,40,50])\n",
    "b: np.ndarray = np.array([0,1,2,3])\n",
    "print(a-b)\n",
    "print(a*b)"
   ]
  },
  {
   "cell_type": "code",
   "execution_count": 35,
   "metadata": {},
   "outputs": [
    {
     "name": "stdout",
     "output_type": "stream",
     "text": [
      "260\n",
      "260\n"
     ]
    }
   ],
   "source": [
    "# NOTE: The product operator * operates elementwise in NumPy arrays. \n",
    "#       The matrix product can be performed using the @ operator (in python >=3.5) \n",
    "#       or the dot function or method\n",
    "\n",
    "print(a @ b)\n",
    "print(a.dot(b))"
   ]
  },
  {
   "cell_type": "code",
   "execution_count": 36,
   "metadata": {},
   "outputs": [
    {
     "name": "stdout",
     "output_type": "stream",
     "text": [
      "[0. 0. 0. 0. 0. 0. 0. 0. 0. 0. 0. 0.]\n"
     ]
    }
   ],
   "source": [
    "# Flatten a multidimensional array back to a linear one\n",
    "flatarray: np.ndarray = array.ravel();\n",
    "print(flatarray)"
   ]
  },
  {
   "cell_type": "code",
   "execution_count": 39,
   "metadata": {},
   "outputs": [
    {
     "name": "stdout",
     "output_type": "stream",
     "text": [
      "[0 1 2 3 4]\n",
      "2\n"
     ]
    }
   ],
   "source": [
    "# NumPy array indexing is identical to Python's indexing scheme\n",
    "print(multidim[0])\n",
    "print(multidim[0][2])"
   ]
  },
  {
   "cell_type": "code",
   "execution_count": 55,
   "metadata": {},
   "outputs": [
    {
     "name": "stdout",
     "output_type": "stream",
     "text": [
      "[[10 11 12 13 14]\n",
      " [ 5  6  7  8  9]\n",
      " [ 0  1  2  3  4]]\n",
      "[[ 0  1  2  3  4]\n",
      " [10 11 12 13 14]]\n",
      "[[ 0  2  4]\n",
      " [ 5  7  9]\n",
      " [10 12 14]]\n",
      "[[0 1]\n",
      " [5 6]]\n"
     ]
    }
   ],
   "source": [
    "# Python's concept of lists slicing is extended to NumPy.\n",
    "\n",
    "print(multidim[::-1]) # Reverse the rows\n",
    "print(multidim[::2])  # Every second row\n",
    "print(multidim[::,::2]) # Every second column\n",
    "print(multidim[0:2, 0:2]) # First two rows and the first two columns"
   ]
  },
  {
   "cell_type": "code",
   "execution_count": 56,
   "metadata": {},
   "outputs": [
    {
     "name": "stdout",
     "output_type": "stream",
     "text": [
      "(3, 5)\n",
      "2\n",
      "8\n"
     ]
    }
   ],
   "source": [
    "# ndarray usefull attributes\n",
    "\n",
    "print(multidim.shape) # Returns a tuple consisting of array dimensions\n",
    "print(multidim.ndim) # Attribute returns the number of array dimensions\n",
    "print(multidim.itemsize) # Returns the length of each element of array in bytes"
   ]
  },
  {
   "cell_type": "markdown",
   "metadata": {},
   "source": [
    "### Exercise 3 - TODO:\n",
    "\n",
    "Create a exercise for numpy!\n"
   ]
  },
  {
   "cell_type": "code",
   "execution_count": null,
   "metadata": {},
   "outputs": [],
   "source": []
  },
  {
   "cell_type": "code",
   "execution_count": null,
   "metadata": {},
   "outputs": [],
   "source": []
  },
  {
   "cell_type": "code",
   "execution_count": null,
   "metadata": {},
   "outputs": [],
   "source": []
  },
  {
   "cell_type": "code",
   "execution_count": 9,
   "metadata": {},
   "outputs": [],
   "source": [
    "# RGB to greyscale image using numpy\n",
    "# Formulae: New grayscale image = ( (0.3 * R) + (0.59 * G) + (0.11 * B) ). (Weighted method or luminosity method)"
   ]
  },
  {
   "cell_type": "code",
   "execution_count": null,
   "metadata": {},
   "outputs": [],
   "source": []
  }
 ],
 "metadata": {
  "kernelspec": {
   "display_name": "Python 3",
   "language": "python",
   "name": "python3"
  },
  "language_info": {
   "codemirror_mode": {
    "name": "ipython",
    "version": 3
   },
   "file_extension": ".py",
   "mimetype": "text/x-python",
   "name": "python",
   "nbconvert_exporter": "python",
   "pygments_lexer": "ipython3",
   "version": "3.7.3"
  }
 },
 "nbformat": 4,
 "nbformat_minor": 4
}
